{
 "cells": [
  {
   "cell_type": "code",
   "execution_count": 1,
   "metadata": {},
   "outputs": [
    {
     "ename": "SyntaxError",
     "evalue": "unexpected EOF while parsing (<ipython-input-1-06ea958b12b9>, line 4)",
     "output_type": "error",
     "traceback": [
      "\u001b[1;36m  File \u001b[1;32m\"<ipython-input-1-06ea958b12b9>\"\u001b[1;36m, line \u001b[1;32m4\u001b[0m\n\u001b[1;33m    \u001b[0m\n\u001b[1;37m    ^\u001b[0m\n\u001b[1;31mSyntaxError\u001b[0m\u001b[1;31m:\u001b[0m unexpected EOF while parsing\n"
     ]
    }
   ],
   "source": [
    "import numpy as np\n",
    "\n",
    "class KNearestNeighbor(object):\n",
    "    \"\"\" a kNN classifier with L2 distance\"\"\"\n",
    "    \n",
    "    def __init__(self):\n",
    "        pass\n",
    "    \n",
    "    def train(self, X, y):\n",
    "        \"\"\"\n",
    "        Train the classifier. For k-nearest neighbors this is just\n",
    "        memorizeing the training data.\n",
    "        \n",
    "        Inputs:\n",
    "        - X: A numpy array of shape(num_train, D) containing the training data\n",
    "            consistring of num_train samples each of dimension D.\n",
    "        - y: A numpy array of shape (N,) containing the training labels, where\n",
    "            y[i] is the label for X[i]\n",
    "        \"\"\"\n",
    "        \n",
    "        self.X_train = X\n",
    "        self.y_train = y\n",
    "        \n",
    "    def predict(self, X, k=1, num_loops=0):\n",
    "        \"\"\"\n",
    "        Predict labels for thest data using this classifier.\n",
    "        \n",
    "        Inputs:\n",
    "        - X: A numpy array of shape (num_test, D) containing test data consisting\n",
    "            of num_test samples each of dimension D.\n",
    "        - k: The number of nearest neighbors that vote for the predicted labels.\n",
    "        - num_loops: Determines which implementation to use to compute distances\n",
    "            between training points and testing points.\n",
    "            \n",
    "        Returns:\n",
    "        - y: A numpy array of shape (num_test,) containing predicted labels for the \n",
    "            test data, where y[i] is the predicted label for the test point X[i].\n",
    "        \"\"\"\n",
    "        \n",
    "        if num_loops == 0:\n",
    "            dists = self.compute_distances_no_loops(X)\n",
    "        elif num_loops == 1:\n",
    "            dists = self.compute_distances_one_loop(X)\n",
    "        elif num_loops == 2:\n",
    "            dists = self.compute_distances_two_loops(X)\n",
    "        else:\n",
    "            raise ValueError('Invalid value %d for num_loops' % num_loops)\n",
    "        \n",
    "        return self.predict_labels(dists, k=k)\n",
    "    \n",
    "    def compute_distances_two_loops(self, X):\n",
    "        \"\"\"\n",
    "        Compute the distance between each test point in X and each training point\n",
    "        in self.X_train using a nested loop over both the training data and the\n",
    "        test data.\n",
    "        \n",
    "        Inputs:\n",
    "        - X: A numpy array of shape (num_test, D) containing test data.\n",
    "        \n",
    "        Returns:\n",
    "        - dists: A numpy array of shape (num_test, num_train) where dists[i, j]\n",
    "            is the Euclidean distance between the ith test point and the jth training \n",
    "            points.\n",
    "        \"\"\"\n",
    "        \n",
    "        num_test = X.shape[0]\n",
    "        num_train = self.X_train.shape[0]\n",
    "        dists = np.zeros((num_test, num_train))\n",
    "        for i in range(num_test):\n",
    "            for j in range(num_train):\n",
    "                t = X[i]-X_train[j]\n",
    "                t = t * t.transpose()\n",
    "                dists[i][j] = np.sqrt(t.sum())\n",
    "        return dists"
   ]
  }
 ],
 "metadata": {
  "kernelspec": {
   "display_name": "Python 3",
   "language": "python",
   "name": "python3"
  },
  "language_info": {
   "codemirror_mode": {
    "name": "ipython",
    "version": 3
   },
   "file_extension": ".py",
   "mimetype": "text/x-python",
   "name": "python",
   "nbconvert_exporter": "python",
   "pygments_lexer": "ipython3",
   "version": "3.6.7"
  }
 },
 "nbformat": 4,
 "nbformat_minor": 2
}
