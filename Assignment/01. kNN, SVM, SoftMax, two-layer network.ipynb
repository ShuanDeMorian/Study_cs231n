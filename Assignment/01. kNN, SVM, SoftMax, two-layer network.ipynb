{
 "cells": [
  {
   "cell_type": "markdown",
   "metadata": {},
   "source": [
    "In this assignment you will practice putting together a simple image classification pipeline, based on the k-Nearest Neighbor or the SVM/Softmax classifier. The goals of this assignment are as follows:\n",
    "\n",
    "* understand the basic **Image Classification pipeline** and the data-driven approach (train/predict stages)\n",
    "* understand the train/val/test **splits** and the use of validation data for **hyperparameter tuning**.\n",
    "* develop proficiency in writing efficient **vectorized** code with numpy\n",
    "* implement and apply a k-Nearest Neighbor **(kNN)** classifier\n",
    "* implement and apply a Multiclass Support Vector Machine **(SVM)** classifier\n",
    "* implement and apply a **Softmax** classifier\n",
    "* implement and apply a **Two layer neural network** classifier\n",
    "* understand the differences and tradeoffs between these classifiers\n",
    "* get a basic understanding of performance improvements from using **higher-level representations** than raw pixels (e.g. color histograms, Histogram of Gradient (HOG) features)"
   ]
  }
 ],
 "metadata": {
  "kernelspec": {
   "display_name": "Python 3",
   "language": "python",
   "name": "python3"
  },
  "language_info": {
   "codemirror_mode": {
    "name": "ipython",
    "version": 3
   },
   "file_extension": ".py",
   "mimetype": "text/x-python",
   "name": "python",
   "nbconvert_exporter": "python",
   "pygments_lexer": "ipython3",
   "version": "3.6.7"
  }
 },
 "nbformat": 4,
 "nbformat_minor": 2
}
